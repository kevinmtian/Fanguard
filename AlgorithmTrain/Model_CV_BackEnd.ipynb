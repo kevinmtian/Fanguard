{
 "cells": [
  {
   "cell_type": "code",
   "execution_count": 39,
   "metadata": {
    "collapsed": false
   },
   "outputs": [
    {
     "name": "stdout",
     "output_type": "stream",
     "text": [
      "The autoreload extension is already loaded. To reload it, use:\n",
      "  %reload_ext autoreload\n"
     ]
    }
   ],
   "source": [
    "%load_ext autoreload"
   ]
  },
  {
   "cell_type": "code",
   "execution_count": 40,
   "metadata": {
    "collapsed": false
   },
   "outputs": [],
   "source": [
    "%autoreload 2"
   ]
  },
  {
   "cell_type": "code",
   "execution_count": 1,
   "metadata": {
    "collapsed": false
   },
   "outputs": [],
   "source": [
    "%matplotlib inline\n",
    "\n",
    "import dfmaker\n",
    "import modelmaker\n",
    "import AnaFunc\n",
    "\n",
    "reload(dfmaker)\n",
    "reload(modelmaker)\n",
    "reload(AnaFunc)\n",
    "\n",
    "import time\n",
    "\n",
    "from sklearn import cross_validation\n",
    "from sklearn.feature_extraction.text import TfidfVectorizer\n",
    "from sklearn.feature_extraction.text import CountVectorizer\n",
    "\n",
    "from sklearn.ensemble import RandomForestClassifier\n",
    "from sklearn.naive_bayes import GaussianNB\n",
    "from sklearn.ensemble import AdaBoostClassifier\n",
    "from sklearn.svm import SVC"
   ]
  },
  {
   "cell_type": "code",
   "execution_count": 3,
   "metadata": {
    "collapsed": true
   },
   "outputs": [],
   "source": [
    "myconfig = \"/Users/ruthtoner/CodingMacros/ProjectInsight/myconfigs.cfg\""
   ]
  },
  {
   "cell_type": "code",
   "execution_count": 33,
   "metadata": {
    "collapsed": true
   },
   "outputs": [],
   "source": [
    "def DrawStuff(trained_model,trained_vocab,tagged_vocab,result,df_Test,title):\n",
    "    #c90,c80,c60 = AnaFunc.DrawROCandThresh(df_Test,result,title)\n",
    "    AnaFunc.DrawROCandThresh(df_Test,result,title)\n",
    "    #DrawScatter(df_Test,result,title)\n",
    "    AnaFunc.DrawBestWords(trained_model,trained_vocab,tagged_vocab,title)"
   ]
  },
  {
   "cell_type": "code",
   "execution_count": 34,
   "metadata": {
    "collapsed": true
   },
   "outputs": [],
   "source": [
    "#Vectorizer:\n",
    "vect_text = TfidfVectorizer(analyzer = \"word\",   \\\n",
    "                             tokenizer = None,    \\\n",
    "                             preprocessor = None, \\\n",
    "                             stop_words = None,   \\\n",
    "                             max_features = 500, \\\n",
    "                             max_df = 0.8)\n",
    "\n",
    "vect_tag = CountVectorizer(analyzer = \"word\",   \\\n",
    "                             tokenizer = None,    \\\n",
    "                             preprocessor = None, \\\n",
    "                             stop_words = None,   \\\n",
    "                             max_features = 500, \\\n",
    "                             max_df = 0.8, \\\n",
    "                             binary = True)\n",
    "\n",
    "    \n",
    "#Models:\n",
    "\n",
    "#Gaussian Naive Bayes:\n",
    "gnb = GaussianNB()\n",
    "\n",
    "#Random Forest:\n",
    "forest = RandomForestClassifier(n_estimators = 100)\n",
    "\n",
    "#Booster:\n",
    "abc = AdaBoostClassifier(n_estimators = 100)\n",
    "\n",
    "#SVM:\n",
    "svc = SVC(kernel='linear',probability=True)"
   ]
  },
  {
   "cell_type": "code",
   "execution_count": 35,
   "metadata": {
    "collapsed": true
   },
   "outputs": [],
   "source": [
    "v1_size_list = [200,500,800,1000]\n",
    "v2_size_list = [100,200,500,800]\n",
    "depth_list = [50,100,200]"
   ]
  },
  {
   "cell_type": "code",
   "execution_count": 36,
   "metadata": {
    "collapsed": true
   },
   "outputs": [],
   "source": [
    "df_all, df_Train, df_Test = AnaFunc.GetDFs(\"sw\",myconfig)"
   ]
  },
  {
   "cell_type": "code",
   "execution_count": 37,
   "metadata": {
    "collapsed": false
   },
   "outputs": [
    {
     "name": "stdout",
     "output_type": "stream",
     "text": [
      "Mean AUC = 0.855007, Std = 0.004320\n"
     ]
    }
   ],
   "source": [
    "AnaFunc.CV_A_Model(forest, vect_text,vect_tag,df_Train,downsample=False)"
   ]
  },
  {
   "cell_type": "code",
   "execution_count": 20,
   "metadata": {
    "collapsed": false
   },
   "outputs": [
    {
     "name": "stdout",
     "output_type": "stream",
     "text": [
      "[ 0.85755208  0.85132208  0.85757624  0.85716142  0.85733109]\n",
      "Mean AUC = 0.856189, Std = 0.002438\n"
     ]
    },
    {
     "name": "stderr",
     "output_type": "stream",
     "text": [
      "/Users/ruthtoner/anaconda/lib/python2.7/site-packages/sklearn/cross_validation.py:69: DeprecationWarning: The indices parameter is deprecated and will be removed (assumed True) in 0.17\n",
      "  stacklevel=1)\n"
     ]
    }
   ],
   "source": [
    "AnaFunc.CV_A_Model(forest, vect_text,vect_tag,df_Train,downsample=True)"
   ]
  },
  {
   "cell_type": "code",
   "execution_count": 42,
   "metadata": {
    "collapsed": false
   },
   "outputs": [
    {
     "name": "stdout",
     "output_type": "stream",
     "text": [
      "V1=200, V2=100, D=50\n",
      "Mean AUC = 0.842410, Std = 0.005316\n",
      "Time elapsed: 15.8661010265\n",
      "V1=200, V2=100, D=100\n",
      "Mean AUC = 0.841593, Std = 0.002318\n",
      "Time elapsed: 30.1759638786\n",
      "V1=200, V2=100, D=200\n",
      "Mean AUC = 0.844386, Std = 0.004062\n",
      "Time elapsed: 59.7020390034\n",
      "V1=200, V2=200, D=50\n",
      "Mean AUC = 0.839391, Std = 0.005848\n",
      "Time elapsed: 18.935901165\n",
      "V1=200, V2=200, D=100\n",
      "Mean AUC = 0.843215, Std = 0.004449\n",
      "Time elapsed: 38.0978000164\n",
      "V1=200, V2=200, D=200\n",
      "Mean AUC = 0.845935, Std = 0.005235\n",
      "Time elapsed: 74.0112769604\n",
      "V1=200, V2=500, D=50\n",
      "Mean AUC = 0.842222, Std = 0.008296\n",
      "Time elapsed: 31.7835149765\n",
      "V1=200, V2=500, D=100\n",
      "Mean AUC = 0.847363, Std = 0.005138\n",
      "Time elapsed: 54.645870924\n",
      "V1=200, V2=500, D=200\n",
      "Mean AUC = 0.843571, Std = 0.004216\n",
      "Time elapsed: 110.252140999\n",
      "V1=200, V2=800, D=50\n",
      "Mean AUC = 0.841555, Std = 0.003690\n",
      "Time elapsed: 33.9158301353\n",
      "V1=200, V2=800, D=100\n",
      "Mean AUC = 0.851842, Std = 0.001457\n",
      "Time elapsed: 66.2156410217\n",
      "V1=200, V2=800, D=200\n",
      "Mean AUC = 0.851955, Std = 0.005043\n",
      "Time elapsed: 132.364506006\n",
      "V1=500, V2=100, D=50\n",
      "Mean AUC = 0.841865, Std = 0.006951\n",
      "Time elapsed: 25.8261790276\n",
      "V1=500, V2=100, D=100\n",
      "Mean AUC = 0.849482, Std = 0.005299\n",
      "Time elapsed: 49.307202816\n",
      "V1=500, V2=100, D=200\n",
      "Mean AUC = 0.850068, Std = 0.008088\n",
      "Time elapsed: 99.3797619343\n",
      "V1=500, V2=200, D=50\n",
      "Mean AUC = 0.852280, Std = 0.004031\n",
      "Time elapsed: 29.2215530872\n",
      "V1=500, V2=200, D=100\n",
      "Mean AUC = 0.854613, Std = 0.004683\n",
      "Time elapsed: 56.3126711845\n",
      "V1=500, V2=200, D=200\n",
      "Mean AUC = 0.857164, Std = 0.005176\n",
      "Time elapsed: 111.263162851\n",
      "V1=500, V2=500, D=50\n",
      "Mean AUC = 0.846545, Std = 0.002894\n",
      "Time elapsed: 1936.90819502\n",
      "V1=500, V2=500, D=100\n",
      "Mean AUC = 0.854122, Std = 0.003787\n",
      "Time elapsed: 75.6869471073\n",
      "V1=500, V2=500, D=200\n",
      "Mean AUC = 0.857337, Std = 0.004204\n",
      "Time elapsed: 145.353205919\n",
      "V1=500, V2=800, D=50\n",
      "Mean AUC = 0.852909, Std = 0.001624\n",
      "Time elapsed: 45.9132480621\n",
      "V1=500, V2=800, D=100\n",
      "Mean AUC = 0.857818, Std = 0.005071\n",
      "Time elapsed: 88.9467170238\n",
      "V1=500, V2=800, D=200\n",
      "Mean AUC = 0.858357, Std = 0.003275\n",
      "Time elapsed: 179.197716951\n",
      "V1=800, V2=100, D=50\n",
      "Mean AUC = 0.848886, Std = 0.004890\n",
      "Time elapsed: 35.6842138767\n",
      "V1=800, V2=100, D=100\n",
      "Mean AUC = 0.854145, Std = 0.003415\n",
      "Time elapsed: 69.2056820393\n",
      "V1=800, V2=100, D=200\n",
      "Mean AUC = 0.851664, Std = 0.004365\n",
      "Time elapsed: 136.72362113\n",
      "V1=800, V2=200, D=50\n",
      "Mean AUC = 0.851863, Std = 0.004400\n",
      "Time elapsed: 37.1808819771\n",
      "V1=800, V2=200, D=100\n",
      "Mean AUC = 0.852164, Std = 0.005190\n",
      "Time elapsed: 74.0492210388\n",
      "V1=800, V2=200, D=200\n",
      "Mean AUC = 0.857713, Std = 0.003122\n",
      "Time elapsed: 146.301031113\n",
      "V1=800, V2=500, D=50\n",
      "Mean AUC = 0.853111, Std = 0.005769\n",
      "Time elapsed: 47.3786408901\n",
      "V1=800, V2=500, D=100\n",
      "Mean AUC = 0.855669, Std = 0.004817\n",
      "Time elapsed: 93.1717350483\n",
      "V1=800, V2=500, D=200\n",
      "Mean AUC = 0.858295, Std = 0.001290\n",
      "Time elapsed: 185.19363308\n",
      "V1=800, V2=800, D=50\n",
      "Mean AUC = 0.855520, Std = 0.002695\n",
      "Time elapsed: 55.848443985\n",
      "V1=800, V2=800, D=100\n",
      "Mean AUC = 0.858007, Std = 0.002867\n",
      "Time elapsed: 109.167109013\n",
      "V1=800, V2=800, D=200\n",
      "Mean AUC = 0.857860, Std = 0.003484\n",
      "Time elapsed: 215.793785095\n",
      "V1=1000, V2=100, D=50\n",
      "Mean AUC = 0.845165, Std = 0.007577\n",
      "Time elapsed: 40.0709240437\n",
      "V1=1000, V2=100, D=100\n",
      "Mean AUC = 0.849396, Std = 0.004457\n",
      "Time elapsed: 78.5692560673\n",
      "V1=1000, V2=100, D=200\n",
      "Mean AUC = 0.852070, Std = 0.001307\n",
      "Time elapsed: 160.107974052\n",
      "V1=1000, V2=200, D=50\n",
      "Mean AUC = 0.852830, Std = 0.004356\n",
      "Time elapsed: 43.3153669834\n",
      "V1=1000, V2=200, D=100\n",
      "Mean AUC = 0.856549, Std = 0.007184\n",
      "Time elapsed: 85.0469551086\n",
      "V1=1000, V2=200, D=200\n",
      "Mean AUC = 0.855983, Std = 0.003741\n",
      "Time elapsed: 3140.52434587\n",
      "V1=1000, V2=500, D=50\n",
      "Mean AUC = 0.852789, Std = 0.001914\n",
      "Time elapsed: 53.0294280052\n",
      "V1=1000, V2=500, D=100\n",
      "Mean AUC = 0.857728, Std = 0.005078\n",
      "Time elapsed: 106.874685049\n",
      "V1=1000, V2=500, D=200\n",
      "Mean AUC = 0.858762, Std = 0.005424\n",
      "Time elapsed: 220.022381067\n",
      "V1=1000, V2=800, D=50\n",
      "Mean AUC = 0.854958, Std = 0.003942\n",
      "Time elapsed: 66.7560348511\n",
      "V1=1000, V2=800, D=100\n",
      "Mean AUC = 0.859426, Std = 0.005139\n",
      "Time elapsed: 132.429790974\n",
      "V1=1000, V2=800, D=200\n",
      "Mean AUC = 0.857267, Std = 0.004777\n",
      "Time elapsed: 277.982325077\n"
     ]
    }
   ],
   "source": [
    "for v1_size in v1_size_list:\n",
    "    for v2_size in v2_size_list:\n",
    "        for depth in depth_list:\n",
    "            print \"V1=%d, V2=%d, D=%d\" % (v1_size,v2_size,depth)\n",
    "            \n",
    "            \n",
    "            v1 = TfidfVectorizer(analyzer = \"word\",   \\\n",
    "                             tokenizer = None,    \\\n",
    "                             preprocessor = None, \\\n",
    "                             stop_words = None,   \\\n",
    "                             max_features = v1_size, \\\n",
    "                             max_df = 0.8)\n",
    "\n",
    "            v2 = CountVectorizer(analyzer = \"word\",   \\\n",
    "                             tokenizer = None,    \\\n",
    "                             preprocessor = None, \\\n",
    "                             stop_words = None,   \\\n",
    "                             max_features = v2_size, \\\n",
    "                             max_df = 0.8, \\\n",
    "                             binary = True)\n",
    "\n",
    "            model = RandomForestClassifier(n_estimators = depth)\n",
    "\n",
    "            start_time = time.time()\n",
    "            \n",
    "            AnaFunc.CV_A_Model(model, v1,v2,df_Train,downsample=True)\n",
    "            \n"
   ]
  },
  {
   "cell_type": "code",
   "execution_count": null,
   "metadata": {
    "collapsed": true
   },
   "outputs": [],
   "source": [
    "#Vectorizer:\n",
    "vect_text = TfidfVectorizer(analyzer = \"word\",   \\\n",
    "                             tokenizer = None,    \\\n",
    "                             preprocessor = None, \\\n",
    "                             stop_words = None,   \\\n",
    "                             max_features = 500, \\\n",
    "                             max_df = 0.8)\n",
    "\n",
    "vect_tag = CountVectorizer(analyzer = \"word\",   \\\n",
    "                             tokenizer = None,    \\\n",
    "                             preprocessor = None, \\\n",
    "                             stop_words = None,   \\\n",
    "                             max_features = 200, \\\n",
    "                             max_df = 0.8, \\\n",
    "                             binary = True)\n",
    "\n",
    "forest = RandomForestClassifier(n_estimators = 100)"
   ]
  },
  {
   "cell_type": "code",
   "execution_count": 46,
   "metadata": {
    "collapsed": false
   },
   "outputs": [],
   "source": [
    "forest_model, forest_vocab1, forest_vocab2, forest_result, df_test = \\\n",
    "    AnaFunc.Train_A_Model(\"sw\", forest, vect_text, vect_tag, myconfig)"
   ]
  },
  {
   "cell_type": "code",
   "execution_count": 2,
   "metadata": {
    "collapsed": false
   },
   "outputs": [
    {
     "ename": "NameError",
     "evalue": "name 'DrawStuff' is not defined",
     "output_type": "error",
     "traceback": [
      "\u001b[0;31m---------------------------------------------------------------------------\u001b[0m",
      "\u001b[0;31mNameError\u001b[0m                                 Traceback (most recent call last)",
      "\u001b[0;32m<ipython-input-2-2b9af0857b76>\u001b[0m in \u001b[0;36m<module>\u001b[0;34m()\u001b[0m\n\u001b[0;32m----> 1\u001b[0;31m \u001b[0mDrawStuff\u001b[0m\u001b[0;34m(\u001b[0m\u001b[0mforest_model\u001b[0m\u001b[0;34m,\u001b[0m \u001b[0mforest_vocab1\u001b[0m\u001b[0;34m,\u001b[0m \u001b[0mforest_vocab2\u001b[0m\u001b[0;34m,\u001b[0m \u001b[0mforest_result\u001b[0m\u001b[0;34m,\u001b[0m \u001b[0mdf_test\u001b[0m\u001b[0;34m,\u001b[0m\u001b[0;34m\"Star Wars\"\u001b[0m\u001b[0;34m)\u001b[0m\u001b[0;34m\u001b[0m\u001b[0m\n\u001b[0m",
      "\u001b[0;31mNameError\u001b[0m: name 'DrawStuff' is not defined"
     ]
    }
   ],
   "source": [
    "DrawStuff(forest_model, forest_vocab1, forest_vocab2, forest_result, df_test,\"Star Wars\")"
   ]
  },
  {
   "cell_type": "code",
   "execution_count": null,
   "metadata": {
    "collapsed": true
   },
   "outputs": [],
   "source": []
  }
 ],
 "metadata": {
  "kernelspec": {
   "display_name": "Python 2",
   "language": "python",
   "name": "python2"
  },
  "language_info": {
   "codemirror_mode": {
    "name": "ipython",
    "version": 2
   },
   "file_extension": ".py",
   "mimetype": "text/x-python",
   "name": "python",
   "nbconvert_exporter": "python",
   "pygments_lexer": "ipython2",
   "version": "2.7.11"
  }
 },
 "nbformat": 4,
 "nbformat_minor": 0
}
