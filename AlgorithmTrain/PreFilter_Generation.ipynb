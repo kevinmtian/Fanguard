{
 "cells": [
  {
   "cell_type": "code",
   "execution_count": 123,
   "metadata": {
    "collapsed": false
   },
   "outputs": [],
   "source": [
    "%matplotlib inline\n",
    "\n",
    "import dfmaker\n",
    "import modelmaker\n",
    "import AnaFunc\n",
    "\n",
    "reload(dfmaker)\n",
    "reload(modelmaker)\n",
    "reload(AnaFunc)\n",
    "\n",
    "import time\n",
    "\n",
    "from sklearn import cross_validation\n",
    "from sklearn.feature_extraction.text import TfidfVectorizer\n",
    "from sklearn.feature_extraction.text import CountVectorizer\n",
    "\n",
    "import numpy as np\n",
    "import re\n",
    "\n",
    "import matplotlib.pyplot as plt\n",
    "import pandas as pd\n",
    "\n",
    "from sklearn import linear_model\n",
    "from sklearn import metrics\n",
    "from sklearn.utils import shuffle\n",
    "\n",
    "import pickle\n",
    "\n",
    "import warnings\n",
    "warnings.filterwarnings('ignore')"
   ]
  },
  {
   "cell_type": "markdown",
   "metadata": {},
   "source": [
    "# Functions"
   ]
  },
  {
   "cell_type": "markdown",
   "metadata": {},
   "source": [
    "## Utilities to Make Variables"
   ]
  },
  {
   "cell_type": "code",
   "execution_count": 124,
   "metadata": {
    "collapsed": true
   },
   "outputs": [],
   "source": [
    "def snipstr(x,mystr):\n",
    "    x = re.sub(\"\\S*%s\\S*\" % mystr,\"\",x)\n",
    "    return x\n",
    "\n",
    "def remove_word(df,mylist):\n",
    "    for w in mylist:\n",
    "        df['taglist'] = df['taglist'].apply(lambda x, y: snipstr(x,y), args=(w,))\n",
    "        df['words'] = df['words'].apply(lambda x, y: snipstr(x,y), args=(w,))\n",
    "    return df"
   ]
  },
  {
   "cell_type": "code",
   "execution_count": 125,
   "metadata": {
    "collapsed": true
   },
   "outputs": [],
   "source": [
    "def MakeNorms(df,v1,v2):\n",
    "    \n",
    "    x1,x2,y = modelmaker.retrieve_vocab(v1,v2,df)\n",
    "\n",
    "    norm1 = np.zeros(x1.shape[0])\n",
    "    for i,x in enumerate(x1):\n",
    "        norm1[i] = np.linalg.norm(x)\n",
    "\n",
    "    norm2 = np.zeros(x2.shape[0])\n",
    "    for i,x in enumerate(x2):\n",
    "        norm2[i] = np.linalg.norm(x)\n",
    "\n",
    "    return norm1,norm2"
   ]
  },
  {
   "cell_type": "code",
   "execution_count": 126,
   "metadata": {
    "collapsed": true
   },
   "outputs": [],
   "source": [
    "def MakeFeatures(df,v1,v2,downsample=False):\n",
    "    \n",
    "    if downsample:\n",
    "        df_class1 = df[df[\"evtclass\"]==1]\n",
    "        df_class0 = df[df[\"evtclass\"]==0]\n",
    "    \n",
    "        size0 = df_class1.shape[0]\n",
    "        df_class0 = df_class0.sample(size0)\n",
    "        df = pd.concat([df_class1,df_class0],ignore_index=True)\n",
    "        df = shuffle(df,random_state=20)\n",
    "    \n",
    "    x1,x2,y = modelmaker.retrieve_vocab(v1,v2,df)\n",
    "\n",
    "    norm1 = np.zeros(x1.shape[0])\n",
    "    for i,x in enumerate(x1):\n",
    "        norm1[i] = np.linalg.norm(x)\n",
    "\n",
    "    norm2 = np.zeros(x1.shape[0])\n",
    "    for i,x in enumerate(x2):\n",
    "        norm2[i] = (np.linalg.norm(x))\n",
    "\n",
    "    #print norm1.shape, norm2.shape\n",
    "        \n",
    "    norm1 = norm1.reshape(len(norm1),1)\n",
    "    norm2 = norm2.reshape(len(norm2),1)\n",
    "    \n",
    "    x = np.hstack([norm1,norm2])  \n",
    "    \n",
    "    #print x.shape\n",
    "    return x,y"
   ]
  },
  {
   "cell_type": "markdown",
   "metadata": {},
   "source": [
    "## Drawing and Analysis Functions"
   ]
  },
  {
   "cell_type": "code",
   "execution_count": 127,
   "metadata": {
    "collapsed": true
   },
   "outputs": [],
   "source": [
    "def DrawROCandThreshLog(y_test,result_prob,title):\n",
    "      \n",
    "    plt.rcParams['figure.figsize'] = (6.0, 6.0)\n",
    "    plt.rcParams['font.size'] =  10    \n",
    "        \n",
    "    y_real = y_test\n",
    "    y_score = result_prob\n",
    "\n",
    "        \n",
    "    #print y_real.shape\n",
    "    #print y_score.shape\n",
    "    fpr, tpr, thresh = metrics.roc_curve(y_real, y_score, pos_label=1)\n",
    "        \n",
    "    roc_auc = metrics.auc(fpr, tpr,reorder=True)\n",
    "    \n",
    "    plt.figure()\n",
    "    plt.plot(fpr, tpr, label='ROC curve (area = %0.2f)' % roc_auc)\n",
    "    plt.plot([0, 1], [0, 1], 'k--')\n",
    "    plt.xlim([0.0, 1.0])\n",
    "    plt.ylim([0.0, 1.05])\n",
    "    plt.xlabel('False Positive Rate')\n",
    "    plt.ylabel('True Positive Rate')\n",
    "    plt.title(\"Cut Threshold versus Selection Rate: %s\" % title)\n",
    "    plt.legend(loc=\"lower right\")\n",
    "    plt.show()\n",
    "    \n",
    "    plt.figure()\n",
    "    plt.plot(thresh, tpr, label='True Positive Rate')\n",
    "    plt.plot(thresh, fpr, label='False Positive Rate')\n",
    "    plt.xlim([0.0, 1.0])\n",
    "    plt.ylim([0.0, 1.05])\n",
    "    plt.xlabel('Threshold')\n",
    "    plt.ylabel('Rate')\n",
    "    plt.title('Cut Threshold versus Selection Rate: %s' % title)\n",
    "    plt.legend(loc=\"upper right\")\n",
    "    plt.show()\n",
    "    \n",
    "    #return tpr, fpr, thresholds"
   ]
  },
  {
   "cell_type": "code",
   "execution_count": 128,
   "metadata": {
    "collapsed": true
   },
   "outputs": [],
   "source": [
    "def ReturnROC(y_test,result_prob,tval,unmarked=False):\n",
    "      \n",
    "    y_real = y_test\n",
    "    y_score = result_prob\n",
    "\n",
    "    fpr, tpr, thresh = metrics.roc_curve(y_real, y_score, pos_label=1)\n",
    "        \n",
    "    roc_auc = metrics.auc(fpr, tpr,reorder=True)\n",
    "    \n",
    "    for i,t in enumerate(thresh):\n",
    "\n",
    "        \"\"\"\n",
    "        if unmarked and t < tval:\n",
    "            return roc_auc, t, tpr[i], fpr[i]\n",
    "        \n",
    "        if (not unmarked) and (tpr[i] > 0.95 and t<1):\n",
    "            return roc_auc, t, tpr[i], fpr[i]\n",
    "        \n",
    "        \"\"\"\n",
    "        \n",
    "        if t < tval:\n",
    "            return roc_auc, t, tpr[i], fpr[i]\n",
    "        \n",
    "        #if tpr[i] > 0.60 and t<1 and not got60:\n",
    "        #    print \"TP=60p: thresh=%f, FP=%f\" % (t,fpr[i])\n",
    "        #    got60=True\n",
    "        #    dict_cuts['60p']=t\n",
    "    \n",
    "    #return roc_auc"
   ]
  },
  {
   "cell_type": "markdown",
   "metadata": {},
   "source": [
    "## Training and Testing Functions"
   ]
  },
  {
   "cell_type": "code",
   "execution_count": 129,
   "metadata": {
    "collapsed": true
   },
   "outputs": [],
   "source": [
    "def TrainLog(df_train,v1,v2):\n",
    "\n",
    "    X_train,Y_train = MakeFeatures(df_train,v1,v2,True)\n",
    "\n",
    "    logreg = linear_model.LogisticRegression(C=1)\n",
    "    \n",
    "    logreg.fit(X_train, Y_train)\n",
    "    \n",
    "    return logreg"
   ]
  },
  {
   "cell_type": "code",
   "execution_count": 130,
   "metadata": {
    "collapsed": true
   },
   "outputs": [],
   "source": [
    "def TestLog(logreg,df_test,v1,v2):\n",
    "\n",
    "    X_test,Y_test = MakeFeatures(df_test,v1,v2,False)\n",
    "\n",
    "    results = logreg.predict_proba(X_test)[:,1]\n",
    "\n",
    "    Y_test = Y_test.reshape(len(Y_test),1)\n",
    "    \n",
    "    return results,Y_test\n",
    "    "
   ]
  },
  {
   "cell_type": "code",
   "execution_count": 131,
   "metadata": {
    "collapsed": true
   },
   "outputs": [],
   "source": [
    "def TrainTestAna(df_train,df_test,v1,v2,tval,unmarked):\n",
    "    logreg = TrainLog(df_train,v1,v2)\n",
    "    results,Y_test = TestLog(logreg,df_test,v1,v2)\n",
    "    roc,t,tpr,fpr = ReturnROC(Y_test,results,tval,unmarked)\n",
    "    #DrawROCandThreshLog(Y_test,results,\"\")\n",
    "    return roc,t,tpr,fpr"
   ]
  },
  {
   "cell_type": "markdown",
   "metadata": {},
   "source": [
    "## High Level Analysis Macros"
   ]
  },
  {
   "cell_type": "code",
   "execution_count": 132,
   "metadata": {
    "collapsed": true
   },
   "outputs": [],
   "source": [
    "def RegisterToFile(tag,nolist,v1,v2,model,myconfig,cutval,pddf):\n",
    "    \n",
    "    #Get DF with Tag + NonTag\n",
    "    df_train = dfmaker.get_nolist_dfs(tag,nolist,myconfig,True)\n",
    "    print df_train['evtclass'].value_counts()\n",
    "    \n",
    "    #Train Vocab based only on Tag:\n",
    "    _,_,_,v1,v2 = modelmaker.train_vocab(vect_text,vect_tag, \\\n",
    "                                             df_train[df_train[\"evtclass\"]==1],downsample=False)\n",
    "\n",
    "    #Train a logistic regression\n",
    "    logreg = TrainLog(df_train,v1,v2)\n",
    "\n",
    "    #Some file information:\n",
    "    path = \"/Users/ruthtoner/CodingMacros/ProjectInsight/Fanguard/files\"\n",
    "    fmname = \"pfilter_%s_model.pkl\" % tag\n",
    "    v1name = \"pfilter_%s_v1.pkl\" % tag\n",
    "    v2name = \"pfilter_%s_v2.pkl\" % tag \n",
    "    \n",
    "    data = {\"name\":tag,\"mp\":fmname, \\\n",
    "            \"v1p\":v1name, \"v2p\":v2name, \\\n",
    "            \"cut_pre\":cutval}\n",
    "    \n",
    "    #Add a new row to mysql frame:\n",
    "    pddf = pddf.append(data,ignore_index=True)\n",
    "    \n",
    "    #Dump the files:\n",
    "    with open('%s/%s' % (path,fmname), 'wb') as fid:\n",
    "        pickle.dump(logreg, fid)    \n",
    "    with open('%s/%s' % (path,v1name), 'wb') as fid:\n",
    "        pickle.dump(v1, fid)   \n",
    "    with open('%s/%s' % (path,v2name), 'wb') as fid:\n",
    "        pickle.dump(v2, fid)  \n",
    "    \n",
    "    return pddf\n",
    "    #return v1,v2,logreg"
   ]
  },
  {
   "cell_type": "code",
   "execution_count": 133,
   "metadata": {
    "collapsed": false
   },
   "outputs": [],
   "source": [
    "def TestPrefilter(tag,nolist,myconfig,vect_text,vect_tag,tval,unmarked=False,wlist=[]):\n",
    "    df_total = dfmaker.get_nolist_dfs(tag,nolist,myconfig)\n",
    "    \n",
    "    \n",
    "    lroc=np.zeros(len(nolist))\n",
    "    lthr=np.zeros(len(nolist))\n",
    "    ltpr=np.zeros(len(nolist))\n",
    "    lfpr=np.zeros(len(nolist))\n",
    "\n",
    "    for i,noltag in enumerate(nolist):\n",
    "        print \"%d : Testing %s against others, for Filter=%s\" % (i+1,noltag,tag)\n",
    "        \n",
    "        df_train,df_test = dfmaker.GenerateTestTrainFront(df_total,i+1)\n",
    "        \n",
    "        if unmarked:\n",
    "            df_test = remove_word(df_test,wlist)\n",
    "        \n",
    "        _,_,_,v1,v2 = modelmaker.train_vocab(vect_text,vect_tag, \\\n",
    "                                             df_train[df_train[\"evtclass\"]==1],downsample=False)\n",
    "        roc,tbest,tpr,fpr = TrainTestAna(df_train,df_test,v1,v2,tval,unmarked)\n",
    "        lroc[i]=roc\n",
    "        ltpr[i]=tpr\n",
    "        lfpr[i]=fpr\n",
    "        lthr[i]=tbest\n",
    "        \n",
    "        print \"ROC=%f, T=%f, TPR=%f, FPR=%f\" % (roc,tbest,tpr,fpr)\n",
    "        \n",
    "    print \"At cut > %f, average ROC=%f, TPR=%f, FPR=%f, best T=%f\" % (tval,lroc.mean(),ltpr.mean(),\\\n",
    "                                                                       lfpr.mean(),lthr.mean())"
   ]
  },
  {
   "cell_type": "markdown",
   "metadata": {},
   "source": [
    "# Testing the PreFilters and Making Official Versions"
   ]
  },
  {
   "cell_type": "markdown",
   "metadata": {},
   "source": [
    "## Models, Vocab, Config"
   ]
  },
  {
   "cell_type": "code",
   "execution_count": 134,
   "metadata": {
    "collapsed": true
   },
   "outputs": [],
   "source": [
    "myconfig = \"/Users/ruthtoner/CodingMacros/ProjectInsight/myconfigs.cfg\"\n",
    "\n",
    "#Vectorizer:\n",
    "vect_text = CountVectorizer(analyzer = \"word\",   \\\n",
    "                             tokenizer = None,    \\\n",
    "                             preprocessor = None, \\\n",
    "                             stop_words = None,   \\\n",
    "                             max_features = 50, \\\n",
    "                             max_df = 1.0)\n",
    "\n",
    "vect_tag = CountVectorizer(analyzer = \"word\",   \\\n",
    "                             tokenizer = None,    \\\n",
    "                             preprocessor = None, \\\n",
    "                             stop_words = None,   \\\n",
    "                             max_features = 50, \\\n",
    "                             max_df = 1.0, \\\n",
    "                             binary = True)\n",
    "\n",
    "model_logreg = linear_model.LogisticRegression(C=1)\n",
    "\n",
    "df_mysql = pd.DataFrame(columns=['name','mp','v1p','v2p','cut_pre'])"
   ]
  },
  {
   "cell_type": "markdown",
   "metadata": {},
   "source": [
    "## Star Wars"
   ]
  },
  {
   "cell_type": "code",
   "execution_count": 135,
   "metadata": {
    "collapsed": false
   },
   "outputs": [
    {
     "name": "stdout",
     "output_type": "stream",
     "text": [
      "Marked:\n",
      "1 : Testing dai against others, for Filter=sw\n",
      "ROC=0.989479, T=0.431870, TPR=1.000000, FPR=0.060864\n",
      "2 : Testing utale against others, for Filter=sw\n",
      "ROC=0.986486, T=0.351470, TPR=1.000000, FPR=0.090743\n",
      "3 : Testing lis against others, for Filter=sw\n",
      "ROC=0.985752, T=0.495089, TPR=1.000000, FPR=0.084400\n",
      "4 : Testing slock against others, for Filter=sw\n",
      "ROC=0.991929, T=0.466434, TPR=1.000000, FPR=0.046570\n",
      "5 : Testing got against others, for Filter=sw\n",
      "ROC=0.993621, T=0.338739, TPR=1.000000, FPR=0.041411\n",
      "6 : Testing han against others, for Filter=sw\n",
      "ROC=0.992629, T=0.320342, TPR=1.000000, FPR=0.046668\n",
      "7 : Testing aou against others, for Filter=sw\n",
      "ROC=0.985266, T=0.493933, TPR=1.000000, FPR=0.071465\n",
      "8 : Testing madmax against others, for Filter=sw\n",
      "ROC=0.978470, T=0.419773, TPR=1.000000, FPR=0.112081\n",
      "At cut > 0.500000, average ROC=0.987954, TPR=1.000000, FPR=0.069275, best T=0.414706\n"
     ]
    }
   ],
   "source": [
    "nolist = ['dai','utale','lis','slock','got','han','aou','madmax']\n",
    "print \"Marked:\"\n",
    "TestPrefilter(\"sw\",nolist,myconfig,vect_text,vect_tag,0.5)"
   ]
  },
  {
   "cell_type": "code",
   "execution_count": 136,
   "metadata": {
    "collapsed": false
   },
   "outputs": [
    {
     "name": "stdout",
     "output_type": "stream",
     "text": [
      "Unmarked:\n",
      "1 : Testing dai against others, for Filter=sw\n",
      "ROC=0.822262, T=0.496080, TPR=0.597405, FPR=0.060280\n",
      "2 : Testing utale against others, for Filter=sw\n",
      "ROC=0.800174, T=0.477701, TPR=0.597284, FPR=0.089524\n",
      "3 : Testing lis against others, for Filter=sw\n",
      "ROC=0.797683, T=0.499808, TPR=0.597647, FPR=0.083669\n",
      "4 : Testing slock against others, for Filter=sw\n",
      "ROC=0.841892, T=0.389955, TPR=0.597223, FPR=0.045146\n",
      "5 : Testing got against others, for Filter=sw\n",
      "ROC=0.852409, T=0.477548, TPR=0.597647, FPR=0.039746\n",
      "6 : Testing han against others, for Filter=sw\n",
      "ROC=0.850696, T=0.497567, TPR=0.597829, FPR=0.046171\n",
      "7 : Testing aou against others, for Filter=sw\n",
      "ROC=0.801652, T=0.476869, TPR=0.598011, FPR=0.068536\n",
      "8 : Testing madmax against others, for Filter=sw\n",
      "ROC=0.782980, T=0.483601, TPR=0.597466, FPR=0.101342\n",
      "At cut > 0.500000, average ROC=0.818718, TPR=0.597564, FPR=0.066802, best T=0.474891\n"
     ]
    }
   ],
   "source": [
    "print \"Unmarked:\"\n",
    "TestPrefilter(\"sw\",nolist,myconfig,vect_text,vect_tag,0.5,True,['star','war'])"
   ]
  },
  {
   "cell_type": "code",
   "execution_count": 116,
   "metadata": {
    "collapsed": false
   },
   "outputs": [
    {
     "name": "stdout",
     "output_type": "stream",
     "text": [
      "0    219412\n",
      "1     41231\n",
      "Name: evtclass, dtype: int64\n"
     ]
    }
   ],
   "source": [
    "df_mysql = RegisterToFile(\"sw\",nolist,vect_text,vect_tag,model_logreg,myconfig,0.7,df_mysql)"
   ]
  },
  {
   "cell_type": "markdown",
   "metadata": {},
   "source": [
    "## Dragon Age"
   ]
  },
  {
   "cell_type": "code",
   "execution_count": 137,
   "metadata": {
    "collapsed": false
   },
   "outputs": [
    {
     "name": "stdout",
     "output_type": "stream",
     "text": [
      "Marked:\n",
      "1 : Testing sw against others, for Filter=dai\n",
      "ROC=0.969500, T=0.498460, TPR=0.856345, FPR=0.077061\n",
      "2 : Testing utale against others, for Filter=dai\n",
      "ROC=0.956763, T=0.497676, TPR=0.856345, FPR=0.114925\n",
      "3 : Testing lis against others, for Filter=dai\n",
      "ROC=0.960260, T=0.497678, TPR=0.856345, FPR=0.105461\n",
      "4 : Testing slock against others, for Filter=dai\n",
      "ROC=0.980135, T=0.489899, TPR=0.856431, FPR=0.049368\n",
      "5 : Testing got against others, for Filter=dai\n",
      "ROC=0.911657, T=0.485648, TPR=0.856345, FPR=0.183141\n",
      "6 : Testing han against others, for Filter=dai\n",
      "ROC=0.978294, T=0.488484, TPR=0.856345, FPR=0.056740\n",
      "7 : Testing aou against others, for Filter=dai\n",
      "ROC=0.876445, T=0.497306, TPR=0.856860, FPR=0.283664\n",
      "8 : Testing madmax against others, for Filter=dai\n",
      "ROC=0.965748, T=0.431988, TPR=0.856345, FPR=0.089262\n",
      "At cut > 0.500000, average ROC=0.949850, TPR=0.856420, FPR=0.119953, best T=0.485892\n"
     ]
    }
   ],
   "source": [
    "nolist = ['sw','utale','lis','slock','got','han','aou','madmax']\n",
    "print \"Marked:\"\n",
    "TestPrefilter(\"dai\",nolist,myconfig,vect_text,vect_tag,0.5)"
   ]
  },
  {
   "cell_type": "code",
   "execution_count": 138,
   "metadata": {
    "collapsed": false
   },
   "outputs": [
    {
     "name": "stdout",
     "output_type": "stream",
     "text": [
      "Unmarked:\n",
      "1 : Testing sw against others, for Filter=dai\n",
      "ROC=0.889209, T=0.497341, TPR=0.741489, FPR=0.077037\n",
      "2 : Testing utale against others, for Filter=dai\n",
      "ROC=0.868702, T=0.491760, TPR=0.741403, FPR=0.115077\n",
      "3 : Testing lis against others, for Filter=dai\n",
      "ROC=0.875915, T=0.480862, TPR=0.741403, FPR=0.104939\n",
      "4 : Testing slock against others, for Filter=dai\n",
      "ROC=0.909811, T=0.490664, TPR=0.741403, FPR=0.049114\n",
      "5 : Testing got against others, for Filter=dai\n",
      "ROC=0.780301, T=0.484461, TPR=0.741403, FPR=0.183141\n",
      "6 : Testing han against others, for Filter=dai\n",
      "ROC=0.910597, T=0.495157, TPR=0.741403, FPR=0.056740\n",
      "7 : Testing aou against others, for Filter=dai\n",
      "ROC=0.748248, T=0.499837, TPR=0.741747, FPR=0.284543\n",
      "8 : Testing madmax against others, for Filter=dai\n",
      "ROC=0.881292, T=0.485116, TPR=0.741575, FPR=0.089262\n",
      "At cut > 0.500000, average ROC=0.858009, TPR=0.741478, FPR=0.119981, best T=0.490650\n"
     ]
    }
   ],
   "source": [
    "print \"Unmarked:\"\n",
    "TestPrefilter(\"dai\",nolist,myconfig,vect_text,vect_tag,0.5,True,['dai'])"
   ]
  },
  {
   "cell_type": "code",
   "execution_count": 119,
   "metadata": {
    "collapsed": false
   },
   "outputs": [
    {
     "name": "stdout",
     "output_type": "stream",
     "text": [
      "0    231519\n",
      "1     29079\n",
      "Name: evtclass, dtype: int64\n"
     ]
    }
   ],
   "source": [
    "df_mysql = RegisterToFile(\"dai\",nolist,vect_text,vect_tag,model_logreg,myconfig,0.24,df_mysql)"
   ]
  },
  {
   "cell_type": "markdown",
   "metadata": {},
   "source": [
    "## Age of Ultron"
   ]
  },
  {
   "cell_type": "code",
   "execution_count": 139,
   "metadata": {
    "collapsed": false
   },
   "outputs": [
    {
     "name": "stdout",
     "output_type": "stream",
     "text": [
      "Marked:\n",
      "1 : Testing sw against others, for Filter=aou\n",
      "ROC=0.995693, T=0.498882, TPR=1.000000, FPR=0.047198\n",
      "2 : Testing utale against others, for Filter=aou\n",
      "ROC=0.996160, T=0.497167, TPR=1.000000, FPR=0.055765\n",
      "3 : Testing lis against others, for Filter=aou\n",
      "ROC=0.997123, T=0.494898, TPR=1.000000, FPR=0.036791\n",
      "4 : Testing slock against others, for Filter=aou\n",
      "ROC=0.998222, T=0.487643, TPR=1.000000, FPR=0.019610\n",
      "5 : Testing got against others, for Filter=aou\n",
      "ROC=0.997940, T=0.469114, TPR=1.000000, FPR=0.029318\n",
      "6 : Testing han against others, for Filter=aou\n",
      "ROC=0.998238, T=0.394382, TPR=1.000000, FPR=0.023188\n",
      "7 : Testing dai against others, for Filter=aou\n",
      "ROC=0.989430, T=0.491595, TPR=1.000000, FPR=0.149720\n",
      "8 : Testing madmax against others, for Filter=aou\n",
      "ROC=0.992592, T=0.389128, TPR=1.000000, FPR=0.075168\n",
      "At cut > 0.500000, average ROC=0.995675, TPR=1.000000, FPR=0.054595, best T=0.465351\n"
     ]
    }
   ],
   "source": [
    "nolist = ['sw','utale','lis','slock','got','han','dai','madmax']\n",
    "print \"Marked:\"\n",
    "TestPrefilter(\"aou\",nolist,myconfig,vect_text,vect_tag,0.5)"
   ]
  },
  {
   "cell_type": "code",
   "execution_count": null,
   "metadata": {
    "collapsed": false
   },
   "outputs": [
    {
     "name": "stdout",
     "output_type": "stream",
     "text": [
      "Unmarked:\n",
      "1 : Testing sw against others, for Filter=aou\n",
      "ROC=0.902741, T=0.480090, TPR=0.633169, FPR=0.046324\n",
      "2 : Testing utale against others, for Filter=aou\n",
      "ROC=0.895200, T=0.495530, TPR=0.632802, FPR=0.055656\n",
      "3 : Testing lis against others, for Filter=aou\n",
      "ROC=0.914743, T=0.498141, TPR=0.633169, FPR=0.036112\n",
      "4 : Testing slock against others, for Filter=aou\n",
      "ROC=0.933463, T=0.495556, TPR=0.633718, FPR=0.019686\n",
      "5 : Testing got against others, for Filter=aou\n",
      "ROC=0.921458, T=0.426630, TPR=0.632619, FPR=0.029045\n",
      "6 : Testing han against others, for Filter=aou\n",
      "ROC=0.934962, T=0.430155, TPR=0.633352, FPR=0.022836\n",
      "7 : Testing dai against others, for Filter=aou\n",
      "ROC=0.913255, T=0.494919, TPR=0.633901, FPR=0.038135\n",
      "8 : Testing madmax against others, for Filter=aou\n",
      "ROC=0.880849, T=0.498341, TPR=0.633718, FPR=0.069799\n",
      "At cut > 0.500000, average ROC=0.912084, TPR=0.633306, FPR=0.039699, best T=0.477420\n"
     ]
    }
   ],
   "source": [
    "print \"Unmarked:\"\n",
    "TestPrefilter(\"aou\",nolist,myconfig,vect_text,vect_tag,0.5,True,['age','of','ultron'])"
   ]
  },
  {
   "cell_type": "code",
   "execution_count": null,
   "metadata": {
    "collapsed": true
   },
   "outputs": [],
   "source": [
    "df_mysql = RegisterToFile(\"aou\",nolist,vect_text,vect_tag,model_logreg,myconfig,0.2,df_mysql)"
   ]
  },
  {
   "cell_type": "markdown",
   "metadata": {},
   "source": [
    "## Mad Max"
   ]
  },
  {
   "cell_type": "code",
   "execution_count": null,
   "metadata": {
    "collapsed": false
   },
   "outputs": [
    {
     "name": "stdout",
     "output_type": "stream",
     "text": [
      "Marked:\n",
      "1 : Testing sw against others, for Filter=madmax\n",
      "ROC=0.944746, T=0.499243, TPR=1.000000, FPR=0.335996"
     ]
    }
   ],
   "source": [
    "nolist = ['sw','utale','lis','slock','got','han','dai','aou']\n",
    "print \"Marked:\"\n",
    "TestPrefilter(\"madmax\",nolist,myconfig,vect_text,vect_tag,0.5)\n",
    "print \"Unmarked:\"\n",
    "TestPrefilter(\"madmax\",nolist,myconfig,vect_text,vect_tag,0.5,True,['mad','max'])"
   ]
  },
  {
   "cell_type": "code",
   "execution_count": null,
   "metadata": {
    "collapsed": true
   },
   "outputs": [],
   "source": [
    "df_mysql = RegisterToFile(\"madmax\",nolist,vect_text,vect_tag,model_logreg,myconfig,0.2,df_mysql)"
   ]
  },
  {
   "cell_type": "markdown",
   "metadata": {},
   "source": [
    "## Undertale"
   ]
  },
  {
   "cell_type": "code",
   "execution_count": null,
   "metadata": {
    "collapsed": true
   },
   "outputs": [],
   "source": [
    "nolist = ['sw','madmax','lis','slock','got','han','dai','aou']\n",
    "print \"Marked:\"\n",
    "TestPrefilter(\"utale\",nolist,myconfig,vect_text,vect_tag,0.5)\n",
    "print \"Unmarked:\"\n",
    "TestPrefilter(\"utale\",nolist,myconfig,vect_text,vect_tag,0.5,True,['undertale'])"
   ]
  },
  {
   "cell_type": "code",
   "execution_count": null,
   "metadata": {
    "collapsed": true
   },
   "outputs": [],
   "source": [
    "df_mysql = RegisterToFile(\"utale\",nolist,vect_text,vect_tag,model_logreg,myconfig,0.2,df_mysql)"
   ]
  },
  {
   "cell_type": "markdown",
   "metadata": {},
   "source": [
    "## Sherlock"
   ]
  },
  {
   "cell_type": "code",
   "execution_count": null,
   "metadata": {
    "collapsed": true
   },
   "outputs": [],
   "source": [
    "nolist = ['sw','madmax','lis','utale','got','han','dai','aou']\n",
    "print \"Marked:\"\n",
    "TestPrefilter(\"slock\",nolist,myconfig,vect_text,vect_tag,0.5)\n",
    "print \"Unmarked:\"\n",
    "TestPrefilter(\"slock\",nolist,myconfig,vect_text,vect_tag,0.5,True,['sherlock'])"
   ]
  },
  {
   "cell_type": "code",
   "execution_count": null,
   "metadata": {
    "collapsed": true
   },
   "outputs": [],
   "source": [
    "df_mysql = RegisterToFile(\"slock\",nolist,vect_text,vect_tag,model_logreg,myconfig,0.2,df_mysql)"
   ]
  },
  {
   "cell_type": "markdown",
   "metadata": {},
   "source": [
    "## Life is Strange"
   ]
  },
  {
   "cell_type": "code",
   "execution_count": null,
   "metadata": {
    "collapsed": true
   },
   "outputs": [],
   "source": [
    "nolist = ['sw','madmax','slock','utale','got','han','dai','aou']\n",
    "print \"Marked:\"\n",
    "TestPrefilter(\"lis\",nolist,myconfig,vect_text,vect_tag,0.5)\n",
    "print \"Unmarked:\"\n",
    "TestPrefilter(\"lis\",nolist,myconfig,vect_text,vect_tag,0.5,True,['life','is','strange'])"
   ]
  },
  {
   "cell_type": "code",
   "execution_count": null,
   "metadata": {
    "collapsed": true
   },
   "outputs": [],
   "source": [
    "df_mysql = RegisterToFile(\"lis\",nolist,vect_text,vect_tag,model_logreg,myconfig,0.2,df_mysql)"
   ]
  },
  {
   "cell_type": "markdown",
   "metadata": {},
   "source": [
    "## Game of Thrones"
   ]
  },
  {
   "cell_type": "code",
   "execution_count": null,
   "metadata": {
    "collapsed": true
   },
   "outputs": [],
   "source": [
    "nolist = ['sw','madmax','slock','utale','lis','han','dai','aou']\n",
    "print \"Marked:\"\n",
    "TestPrefilter(\"got\",nolist,myconfig,vect_text,vect_tag,0.5)\n",
    "print \"Unmarked:\"\n",
    "TestPrefilter(\"got\",nolist,myconfig,vect_text,vect_tag,0.5,True,['game','of','thrones'])"
   ]
  },
  {
   "cell_type": "code",
   "execution_count": null,
   "metadata": {
    "collapsed": true
   },
   "outputs": [],
   "source": [
    "df_mysql = RegisterToFile(\"got\",nolist,vect_text,vect_tag,model_logreg,myconfig,0.2,df_mysql)"
   ]
  },
  {
   "cell_type": "markdown",
   "metadata": {},
   "source": [
    "## Hannibal"
   ]
  },
  {
   "cell_type": "code",
   "execution_count": null,
   "metadata": {
    "collapsed": true
   },
   "outputs": [],
   "source": [
    "nolist = ['sw','madmax','slock','utale','lis','got','dai','aou']\n",
    "print \"Marked:\"\n",
    "TestPrefilter(\"han\",nolist,myconfig,vect_text,vect_tag,0.5)\n",
    "print \"Unmarked:\"\n",
    "TestPrefilter(\"han\",nolist,myconfig,vect_text,vect_tag,0.5,True,['hannibal'])"
   ]
  },
  {
   "cell_type": "code",
   "execution_count": null,
   "metadata": {
    "collapsed": true
   },
   "outputs": [],
   "source": [
    "df_mysql = RegisterToFile(\"han\",nolist,vect_text,vect_tag,model_logreg,myconfig,0.2,df_mysql)"
   ]
  },
  {
   "cell_type": "markdown",
   "metadata": {
    "collapsed": true
   },
   "source": []
  }
 ],
 "metadata": {
  "kernelspec": {
   "display_name": "Python 2",
   "language": "python",
   "name": "python2"
  },
  "language_info": {
   "codemirror_mode": {
    "name": "ipython",
    "version": 2
   },
   "file_extension": ".py",
   "mimetype": "text/x-python",
   "name": "python",
   "nbconvert_exporter": "python",
   "pygments_lexer": "ipython2",
   "version": "2.7.11"
  }
 },
 "nbformat": 4,
 "nbformat_minor": 0
}
