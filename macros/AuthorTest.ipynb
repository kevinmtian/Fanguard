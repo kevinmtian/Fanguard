{
 "cells": [
  {
   "cell_type": "code",
   "execution_count": 49,
   "metadata": {
    "collapsed": false
   },
   "outputs": [],
   "source": [
    "%matplotlib inline\n",
    "\n",
    "from __future__ import division\n",
    "\n",
    "import dfmaker\n",
    "import modelmaker\n",
    "import AnaFunc\n",
    "\n",
    "reload(dfmaker)\n",
    "reload(modelmaker)\n",
    "reload(AnaFunc)\n",
    "\n",
    "import time\n",
    "\n",
    "from sklearn import cross_validation\n",
    "from sklearn.feature_extraction.text import TfidfVectorizer\n",
    "from sklearn.feature_extraction.text import CountVectorizer\n",
    "\n",
    "from sklearn.ensemble import RandomForestClassifier\n",
    "from sklearn.naive_bayes import GaussianNB\n",
    "from sklearn.ensemble import AdaBoostClassifier\n",
    "from sklearn.svm import SVC\n",
    "\n",
    "import numpy as np\n",
    "\n",
    "import matplotlib.pyplot as plt\n",
    "\n",
    "from sklearn import linear_model\n",
    "from sklearn import metrics\n",
    "from sklearn.utils import shuffle\n",
    "\n",
    "from collections import defaultdict"
   ]
  },
  {
   "cell_type": "code",
   "execution_count": 94,
   "metadata": {
    "collapsed": false
   },
   "outputs": [],
   "source": [
    "def AuthorStats(tag,myconfig):\n",
    "    df_all = dfmaker.get_train_dfs(tag,myconfig)\n",
    "    df_reg = df_all[df_all['evtclass']==0]\n",
    "    df_spo = df_all[df_all['evtclass']==1]\n",
    "    unique_reg = df_reg['blogname'].value_counts()\n",
    "    unique_spo = df_spo['blogname'].value_counts()\n",
    "\n",
    "    spolen = df_spo.shape[0]\n",
    "    print \"Spoilers: %d posts\" % spolen\n",
    "    print \"  Mean: %f Median: %d Max: %d\" % (unique_spo.mean(), unique_spo.median(), unique_spo.max())\n",
    "    print \"  Mean: %f%% Median: %f%% Max: %f%%\" % (100*unique_spo.mean()/spolen, \\\n",
    "                                            100*unique_spo.median()/spolen, \\\n",
    "                                            100*unique_spo.max()/spolen)\n",
    "    reglen = df_reg.shape[0]\n",
    "    print \"Spoilers: %d posts\" % reglen\n",
    "    print \"  Mean: %f Median: %d Max: %d\" % (unique_reg.mean(), unique_reg.median(), unique_reg.max())\n",
    "    print \"  Mean: %f%% Median: %f%% Max: %f%%\" % (100*unique_reg.mean()/reglen, \\\n",
    "                                            100*unique_reg.median()/reglen, \\\n",
    "                                            100*unique_reg.max()/reglen)\n",
    "    \n",
    "    post_limit = int(0.0005*(df_all.shape[0]))\n",
    "    if post_limit == 0:\n",
    "        post_limit = 1\n",
    "        \n",
    "    print \"LIMIT IS:\",post_limit\n",
    "    \n",
    "    auth_select = np.empty(df_all.shape[0],dtype=bool)\n",
    "    \n",
    "    df_all = shuffle(df_all,random_state=20)\n",
    "    auth_count = defaultdict(int)\n",
    "    \n",
    "    for i in range(0, df_all.shape[0]):\n",
    "        bname = df_all.iloc[i]['blogname']\n",
    "        auth_count[bname] += 1\n",
    "        if auth_count[bname]>post_limit:\n",
    "            auth_select[i] = False\n",
    "        else :\n",
    "            auth_select[i] = True\n",
    "\n",
    "    df_all = df_all[auth_select]\n",
    "    \n",
    "    print \"NEXT ROUND\"\n",
    "    \n",
    "    df_reg = df_all[df_all['evtclass']==0]\n",
    "    df_spo = df_all[df_all['evtclass']==1]\n",
    "    unique_reg = df_reg['blogname'].value_counts()\n",
    "    unique_spo = df_spo['blogname'].value_counts()\n",
    "\n",
    "    spolen = df_spo.shape[0]\n",
    "    print \"Spoilers: %d posts\" % spolen\n",
    "    print \"  Mean: %f Median: %d Max: %d\" % (unique_spo.mean(), unique_spo.median(), unique_spo.max())\n",
    "    print \"  Mean: %f%% Median: %f%% Max: %f%%\" % (100*unique_spo.mean()/spolen, \\\n",
    "                                            100*unique_spo.median()/spolen, \\\n",
    "                                            100*unique_spo.max()/spolen)\n",
    "    reglen = df_reg.shape[0]\n",
    "    print \"Regular: %d posts\" % reglen\n",
    "    print \"  Mean: %f Median: %d Max: %d\" % (unique_reg.mean(), unique_reg.median(), unique_reg.max())\n",
    "    print \"  Mean: %f%% Median: %f%% Max: %f%%\" % (100*unique_reg.mean()/reglen, \\\n",
    "                                            100*unique_reg.median()/reglen, \\\n",
    "                                            100*unique_reg.max()/reglen)\n",
    "\n",
    "    return df_all"
   ]
  },
  {
   "cell_type": "code",
   "execution_count": 95,
   "metadata": {
    "collapsed": true
   },
   "outputs": [],
   "source": [
    "myconfig = \"/Users/ruthtoner/CodingMacros/ProjectInsight/myconfigs.cfg\"\n",
    "\n",
    "\n",
    "#Vectorizer:\n",
    "vect_text = TfidfVectorizer(analyzer = \"word\",   \\\n",
    "                             tokenizer = None,    \\\n",
    "                             preprocessor = None, \\\n",
    "                             stop_words = None,   \\\n",
    "                             max_features = 500, \\\n",
    "                             max_df = 0.8)\n",
    "\n",
    "vect_tag = CountVectorizer(analyzer = \"word\",   \\\n",
    "                             tokenizer = None,    \\\n",
    "                             preprocessor = None, \\\n",
    "                             stop_words = None,   \\\n",
    "                             max_features = 200, \\\n",
    "                             max_df = 0.8, \\\n",
    "                             binary = True)\n",
    "#Random Forest:\n",
    "forest = RandomForestClassifier(n_estimators = 100)"
   ]
  },
  {
   "cell_type": "code",
   "execution_count": 96,
   "metadata": {
    "collapsed": false
   },
   "outputs": [
    {
     "name": "stdout",
     "output_type": "stream",
     "text": [
      "Spoilers: 12626 posts\n",
      "  Mean: 1.684590 Median: 1 Max: 308\n",
      "  Mean: 0.013342% Median: 0.007920% Max: 2.439411%\n",
      "Spoilers: 30096 posts\n",
      "  Mean: 1.309661 Median: 1 Max: 233\n",
      "  Mean: 0.004352% Median: 0.003323% Max: 0.774189%\n",
      "LIMIT IS: 21\n",
      "NEXT ROUND\n",
      "Spoilers: 12009 posts\n",
      "  Mean: 1.602268 Median: 1 Max: 21\n",
      "  Mean: 0.013342% Median: 0.008327% Max: 0.174869%\n",
      "Regular: 29422 posts\n",
      "  Mean: 1.280442 Median: 1 Max: 21\n",
      "  Mean: 0.004352% Median: 0.003399% Max: 0.071375%\n"
     ]
    }
   ],
   "source": [
    "df_all_reduced = AuthorStats(\"sw\",myconfig)"
   ]
  },
  {
   "cell_type": "code",
   "execution_count": 97,
   "metadata": {
    "collapsed": false
   },
   "outputs": [
    {
     "name": "stdout",
     "output_type": "stream",
     "text": [
      "Mean AUC = 0.850661, Std = 0.003860\n"
     ]
    }
   ],
   "source": [
    "modelmaker.model_cv(df_all_reduced,forest,vect_text,vect_tag,n_folds=5,downsample=True)"
   ]
  },
  {
   "cell_type": "code",
   "execution_count": 98,
   "metadata": {
    "collapsed": false
   },
   "outputs": [
    {
     "name": "stdout",
     "output_type": "stream",
     "text": [
      "Spoilers: 19331 posts\n",
      "  Mean: 6.136825 Median: 2 Max: 232\n",
      "  Mean: 0.031746% Median: 0.010346% Max: 1.200145%\n",
      "Spoilers: 20653 posts\n",
      "  Mean: 2.994490 Median: 1 Max: 188\n",
      "  Mean: 0.014499% Median: 0.004842% Max: 0.910279%\n",
      "LIMIT IS: 19\n",
      "NEXT ROUND\n",
      "Spoilers: 12283 posts\n",
      "  Mean: 3.909293 Median: 2 Max: 19\n",
      "  Mean: 0.031827% Median: 0.016283% Max: 0.154685%\n",
      "Regular: 17206 posts\n",
      "  Mean: 2.501963 Median: 1 Max: 19\n",
      "  Mean: 0.014541% Median: 0.005812% Max: 0.110427%\n"
     ]
    }
   ],
   "source": [
    "df_all_reduced = AuthorStats(\"dai\",myconfig)"
   ]
  },
  {
   "cell_type": "code",
   "execution_count": 99,
   "metadata": {
    "collapsed": false
   },
   "outputs": [
    {
     "name": "stdout",
     "output_type": "stream",
     "text": [
      "Mean AUC = 0.804705, Std = 0.004244\n"
     ]
    }
   ],
   "source": [
    "modelmaker.model_cv(df_all_reduced,forest,vect_text,vect_tag,n_folds=5,downsample=True)"
   ]
  },
  {
   "cell_type": "code",
   "execution_count": 100,
   "metadata": {
    "collapsed": false
   },
   "outputs": [
    {
     "name": "stdout",
     "output_type": "stream",
     "text": [
      "Spoilers: 4795 posts\n",
      "  Mean: 1.597801 Median: 1 Max: 49\n",
      "  Mean: 0.033322% Median: 0.020855% Max: 1.021898%\n",
      "Spoilers: 9428 posts\n",
      "  Mean: 1.215889 Median: 1 Max: 31\n",
      "  Mean: 0.012897% Median: 0.010607% Max: 0.328808%\n",
      "LIMIT IS: 7\n",
      "NEXT ROUND\n",
      "Spoilers: 4443 posts\n",
      "  Mean: 1.481494 Median: 1 Max: 7\n",
      "  Mean: 0.033344% Median: 0.022507% Max: 0.157551%\n",
      "Regular: 9285 posts\n",
      "  Mean: 1.198065 Median: 1 Max: 7\n",
      "  Mean: 0.012903% Median: 0.010770% Max: 0.075390%\n"
     ]
    }
   ],
   "source": [
    "df_all_reduced = AuthorStats(\"aou\",myconfig)"
   ]
  },
  {
   "cell_type": "code",
   "execution_count": 101,
   "metadata": {
    "collapsed": false
   },
   "outputs": [
    {
     "name": "stdout",
     "output_type": "stream",
     "text": [
      "Mean AUC = 0.862395, Std = 0.007524\n"
     ]
    }
   ],
   "source": [
    "modelmaker.model_cv(df_all_reduced,forest,vect_text,vect_tag,n_folds=5,downsample=True)"
   ]
  },
  {
   "cell_type": "code",
   "execution_count": 102,
   "metadata": {
    "collapsed": false
   },
   "outputs": [
    {
     "name": "stdout",
     "output_type": "stream",
     "text": [
      "Spoilers: 334 posts\n",
      "  Mean: 1.197133 Median: 1 Max: 4\n",
      "  Mean: 0.358423% Median: 0.299401% Max: 1.197605%\n",
      "Spoilers: 1361 posts\n",
      "  Mean: 1.102024 Median: 1 Max: 5\n",
      "  Mean: 0.080972% Median: 0.073475% Max: 0.367377%\n",
      "LIMIT IS: 1\n",
      "NEXT ROUND\n",
      "Spoilers: 271 posts\n",
      "  Mean: 1.000000 Median: 1 Max: 1\n",
      "  Mean: 0.369004% Median: 0.369004% Max: 0.369004%\n",
      "Regular: 1219 posts\n",
      "  Mean: 1.000000 Median: 1 Max: 1\n",
      "  Mean: 0.082034% Median: 0.082034% Max: 0.082034%\n"
     ]
    }
   ],
   "source": [
    "df_all_reduced = AuthorStats(\"madmax\",myconfig)"
   ]
  },
  {
   "cell_type": "code",
   "execution_count": 103,
   "metadata": {
    "collapsed": false
   },
   "outputs": [
    {
     "name": "stdout",
     "output_type": "stream",
     "text": [
      "Mean AUC = 0.835532, Std = 0.018529\n"
     ]
    }
   ],
   "source": [
    "modelmaker.model_cv(df_all_reduced,forest,vect_text,vect_tag,n_folds=5,downsample=True)"
   ]
  },
  {
   "cell_type": "code",
   "execution_count": 104,
   "metadata": {
    "collapsed": false
   },
   "outputs": [
    {
     "name": "stdout",
     "output_type": "stream",
     "text": [
      "Spoilers: 18217 posts\n",
      "  Mean: 2.525229 Median: 1 Max: 309\n",
      "  Mean: 0.013862% Median: 0.005489% Max: 1.696218%\n",
      "Spoilers: 31587 posts\n",
      "  Mean: 1.575176 Median: 1 Max: 274\n",
      "  Mean: 0.004987% Median: 0.003166% Max: 0.867445%\n",
      "LIMIT IS: 24\n",
      "NEXT ROUND\n",
      "Spoilers: 16152 posts\n",
      "  Mean: 2.239290 Median: 1 Max: 24\n",
      "  Mean: 0.013864% Median: 0.006191% Max: 0.148588%\n",
      "Regular: 30851 posts\n",
      "  Mean: 1.539087 Median: 1 Max: 24\n",
      "  Mean: 0.004989% Median: 0.003241% Max: 0.077793%\n"
     ]
    }
   ],
   "source": [
    "df_all_reduced = AuthorStats(\"utale\",myconfig)"
   ]
  },
  {
   "cell_type": "code",
   "execution_count": 105,
   "metadata": {
    "collapsed": false
   },
   "outputs": [
    {
     "name": "stdout",
     "output_type": "stream",
     "text": [
      "Mean AUC = 0.793292, Std = 0.001886\n"
     ]
    }
   ],
   "source": [
    "modelmaker.model_cv(df_all_reduced,forest,vect_text,vect_tag,n_folds=5,downsample=True)"
   ]
  },
  {
   "cell_type": "code",
   "execution_count": 106,
   "metadata": {
    "collapsed": false
   },
   "outputs": [
    {
     "name": "stdout",
     "output_type": "stream",
     "text": [
      "Spoilers: 9960 posts\n",
      "  Mean: 2.483171 Median: 1 Max: 130\n",
      "  Mean: 0.024931% Median: 0.010040% Max: 1.305221%\n",
      "Spoilers: 13000 posts\n",
      "  Mean: 1.692708 Median: 1 Max: 131\n",
      "  Mean: 0.013021% Median: 0.007692% Max: 1.007692%\n",
      "LIMIT IS: 11\n",
      "NEXT ROUND\n",
      "Spoilers: 8391 posts\n",
      "  Mean: 2.093041 Median: 1 Max: 11\n",
      "  Mean: 0.024944% Median: 0.011918% Max: 0.131093%\n",
      "Regular: 12230 posts\n",
      "  Mean: 1.594108 Median: 1 Max: 11\n",
      "  Mean: 0.013034% Median: 0.008177% Max: 0.089943%\n"
     ]
    }
   ],
   "source": [
    "df_all_reduced = AuthorStats(\"lis\",myconfig)"
   ]
  },
  {
   "cell_type": "code",
   "execution_count": 107,
   "metadata": {
    "collapsed": false
   },
   "outputs": [
    {
     "name": "stdout",
     "output_type": "stream",
     "text": [
      "Mean AUC = 0.791915, Std = 0.005853\n"
     ]
    }
   ],
   "source": [
    "modelmaker.model_cv(df_all_reduced,forest,vect_text,vect_tag,n_folds=5,downsample=True)"
   ]
  },
  {
   "cell_type": "code",
   "execution_count": 108,
   "metadata": {
    "collapsed": false
   },
   "outputs": [
    {
     "name": "stdout",
     "output_type": "stream",
     "text": [
      "Spoilers: 17408 posts\n",
      "  Mean: 2.076336 Median: 1 Max: 233\n",
      "  Mean: 0.011927% Median: 0.005744% Max: 1.338465%\n",
      "Spoilers: 23596 posts\n",
      "  Mean: 1.441593 Median: 1 Max: 264\n",
      "  Mean: 0.006109% Median: 0.004238% Max: 1.118834%\n",
      "LIMIT IS: 20\n",
      "NEXT ROUND\n",
      "Spoilers: 16374 posts\n",
      "  Mean: 1.953006 Median: 1 Max: 20\n",
      "  Mean: 0.011927% Median: 0.006107% Max: 0.122145%\n",
      "Regular: 23070 posts\n",
      "  Mean: 1.409888 Median: 1 Max: 20\n",
      "  Mean: 0.006111% Median: 0.004335% Max: 0.086693%\n"
     ]
    }
   ],
   "source": [
    "df_all_reduced = AuthorStats(\"slock\",myconfig)"
   ]
  },
  {
   "cell_type": "code",
   "execution_count": 109,
   "metadata": {
    "collapsed": false
   },
   "outputs": [
    {
     "name": "stdout",
     "output_type": "stream",
     "text": [
      "Mean AUC = 0.738472, Std = 0.003493\n"
     ]
    }
   ],
   "source": [
    "modelmaker.model_cv(df_all_reduced,forest,vect_text,vect_tag,n_folds=5,downsample=True)"
   ]
  },
  {
   "cell_type": "code",
   "execution_count": 110,
   "metadata": {
    "collapsed": false
   },
   "outputs": [
    {
     "name": "stdout",
     "output_type": "stream",
     "text": [
      "Spoilers: 18447 posts\n",
      "  Mean: 3.895882 Median: 1 Max: 221\n",
      "  Mean: 0.021119% Median: 0.005421% Max: 1.198027%\n",
      "Spoilers: 25513 posts\n",
      "  Mean: 2.440501 Median: 1 Max: 246\n",
      "  Mean: 0.009566% Median: 0.003920% Max: 0.964214%\n",
      "LIMIT IS: 21\n",
      "NEXT ROUND\n",
      "Spoilers: 13974 posts\n",
      "  Mean: 2.951838 Median: 1 Max: 21\n",
      "  Mean: 0.021124% Median: 0.007156% Max: 0.150279%\n",
      "Regular: 21991 posts\n",
      "  Mean: 2.105409 Median: 1 Max: 21\n",
      "  Mean: 0.009574% Median: 0.004547% Max: 0.095494%\n"
     ]
    }
   ],
   "source": [
    "df_all_reduced = AuthorStats(\"han\",myconfig)"
   ]
  },
  {
   "cell_type": "code",
   "execution_count": 111,
   "metadata": {
    "collapsed": false
   },
   "outputs": [
    {
     "name": "stdout",
     "output_type": "stream",
     "text": [
      "Mean AUC = 0.709493, Std = 0.005843\n"
     ]
    }
   ],
   "source": [
    "modelmaker.model_cv(df_all_reduced,forest,vect_text,vect_tag,n_folds=5,downsample=True)"
   ]
  },
  {
   "cell_type": "code",
   "execution_count": 112,
   "metadata": {
    "collapsed": false
   },
   "outputs": [
    {
     "name": "stdout",
     "output_type": "stream",
     "text": [
      "Spoilers: 16419 posts\n",
      "  Mean: 2.116669 Median: 1 Max: 318\n",
      "  Mean: 0.012892% Median: 0.006091% Max: 1.936781%\n",
      "Spoilers: 24350 posts\n",
      "  Mean: 1.444932 Median: 1 Max: 217\n",
      "  Mean: 0.005934% Median: 0.004107% Max: 0.891170%\n",
      "LIMIT IS: 20\n",
      "NEXT ROUND\n",
      "Spoilers: 14965 posts\n",
      "  Mean: 1.929474 Median: 1 Max: 20\n",
      "  Mean: 0.012893% Median: 0.006682% Max: 0.133645%\n",
      "Regular: 23281 posts\n",
      "  Mean: 1.382154 Median: 1 Max: 20\n",
      "  Mean: 0.005937% Median: 0.004295% Max: 0.085907%\n"
     ]
    }
   ],
   "source": [
    "df_all_reduced = AuthorStats(\"got\",myconfig)"
   ]
  },
  {
   "cell_type": "code",
   "execution_count": 113,
   "metadata": {
    "collapsed": false
   },
   "outputs": [
    {
     "name": "stdout",
     "output_type": "stream",
     "text": [
      "Mean AUC = 0.770688, Std = 0.007380\n"
     ]
    }
   ],
   "source": [
    "modelmaker.model_cv(df_all_reduced,forest,vect_text,vect_tag,n_folds=5,downsample=True)"
   ]
  },
  {
   "cell_type": "code",
   "execution_count": null,
   "metadata": {
    "collapsed": true
   },
   "outputs": [],
   "source": []
  },
  {
   "cell_type": "code",
   "execution_count": null,
   "metadata": {
    "collapsed": true
   },
   "outputs": [],
   "source": []
  }
 ],
 "metadata": {
  "kernelspec": {
   "display_name": "Python 2",
   "language": "python",
   "name": "python2"
  },
  "language_info": {
   "codemirror_mode": {
    "name": "ipython",
    "version": 2
   },
   "file_extension": ".py",
   "mimetype": "text/x-python",
   "name": "python",
   "nbconvert_exporter": "python",
   "pygments_lexer": "ipython2",
   "version": "2.7.11"
  }
 },
 "nbformat": 4,
 "nbformat_minor": 0
}
