{
 "cells": [
  {
   "cell_type": "code",
   "execution_count": 61,
   "metadata": {
    "collapsed": true
   },
   "outputs": [],
   "source": [
    "%matplotlib inline\n",
    "\n",
    "from __future__ import division\n",
    "\n",
    "import dfmaker\n",
    "import modelmaker\n",
    "import AnaFunc\n",
    "\n",
    "reload(dfmaker)\n",
    "reload(modelmaker)\n",
    "reload(AnaFunc)\n",
    "\n",
    "import time\n",
    "\n",
    "from sklearn import cross_validation\n",
    "from sklearn.feature_extraction.text import TfidfVectorizer\n",
    "from sklearn.feature_extraction.text import CountVectorizer\n",
    "\n",
    "from sklearn.ensemble import RandomForestClassifier\n",
    "from sklearn.naive_bayes import GaussianNB\n",
    "from sklearn.ensemble import AdaBoostClassifier\n",
    "from sklearn.svm import SVC\n",
    "\n",
    "import numpy as np\n",
    "import re\n",
    "import pickle\n",
    "\n",
    "import matplotlib.pyplot as plt\n",
    "import pandas as pd\n",
    "\n",
    "from sklearn import linear_model\n",
    "from sklearn import metrics"
   ]
  },
  {
   "cell_type": "code",
   "execution_count": 62,
   "metadata": {
    "collapsed": true
   },
   "outputs": [],
   "source": [
    "def MakeNorms(df,v1,v2):\n",
    "    \n",
    "    x1,x2,y = modelmaker.retrieve_vocab(v1,v2,df)\n",
    "\n",
    "    norm1 = np.zeros(x1.shape[0])\n",
    "    for i,x in enumerate(x1):\n",
    "        norm1[i] = np.linalg.norm(x)\n",
    "\n",
    "    norm2 = np.zeros(x2.shape[0])\n",
    "    for i,x in enumerate(x2):\n",
    "        norm2[i] = np.linalg.norm(x)\n",
    "\n",
    "    return norm1,norm2"
   ]
  },
  {
   "cell_type": "code",
   "execution_count": 79,
   "metadata": {
    "collapsed": true
   },
   "outputs": [],
   "source": [
    "def TestLog(df_test,v1,v2):\n",
    "\n",
    "    #print df_test\n",
    "    \n",
    "    norm1,norm2 = MakeNorms(df_test,v1,v2)\n",
    "\n",
    "    results = ((norm1 > 5) | (norm2 > 0))\n",
    "    \n",
    "    #print results.sum()\n",
    "    \n",
    "    return results\n",
    "    "
   ]
  },
  {
   "cell_type": "code",
   "execution_count": 80,
   "metadata": {
    "collapsed": true
   },
   "outputs": [],
   "source": [
    "def snipstr(x,mystr):\n",
    "    x = re.sub(\"\\S*%s\\S*\" % mystr,\"\",x)\n",
    "    return x\n",
    "\n",
    "def remove_word(df,mylist):\n",
    "    for w in mylist:\n",
    "        df['taglist'] = df['taglist'].apply(lambda x, y: snipstr(x,y), args=(w,))\n",
    "        df['words'] = df['words'].apply(lambda x, y: snipstr(x,y), args=(w,))\n",
    "    return df"
   ]
  },
  {
   "cell_type": "code",
   "execution_count": 81,
   "metadata": {
    "collapsed": true
   },
   "outputs": [],
   "source": [
    "def fullpipe(tag,nolist,myconfig,vect_text,vect_tag,unmarked=False,wlist=[]):\n",
    "\n",
    "    df_class1 = dfmaker.get_train_dfs(tag,myconfig)\n",
    "    df_class1['evtclass'] = 1\n",
    " \n",
    "    _,_,_,v1,v2 = modelmaker.train_vocab(vect_text,vect_tag, \\\n",
    "                                         df_class1,downsample=False)\n",
    "\n",
    "    for notag in nolist:\n",
    "        \n",
    "        df_class0 = dfmaker.get_train_dfs(notag,myconfig)\n",
    "        df_class0['evtclass'] = 0\n",
    "\n",
    "        df_test = pd.concat([df_class0,df_class1])\n",
    "\n",
    "        if unmarked:\n",
    "            df_test = remove_word(df_test,wlist)\n",
    "        \n",
    "        y_real = df_test['evtclass'].values\n",
    "        y_pred = TestLog(df_test,v1,v2)\n",
    "        \n",
    "        tot_pos = (y_real==1).sum()\n",
    "        tot_neg = (y_real==0).sum()\n",
    "    \n",
    "        tpos = ((y_pred == 1) * (y_real == 1 )).sum()\n",
    "        tpr = tpos/tot_pos\n",
    "        fpos = ((y_pred == 1) * (y_real == 0 )).sum()\n",
    "        fpr = fpos/tot_neg\n",
    "        \n",
    "        print \"true=%s, false=%s, TPR=%f, FPR=%f\" % (tag,notag,tpr,fpr)\n",
    "        \n",
    "        path = \"/Users/ruthtoner/CodingMacros/ProjectInsight/Fanguard/files\"\n",
    "        v1name = \"pfilter_%s_v1.pkl\" % tag\n",
    "        v2name = \"pfilter_%s_v2.pkl\" % tag \n",
    "\n",
    "        with open('%s/%s' % (path,v1name), 'wb') as fid:\n",
    "            pickle.dump(v1, fid)   \n",
    "        with open('%s/%s' % (path,v2name), 'wb') as fid:\n",
    "            pickle.dump(v2, fid)  \n",
    "        "
   ]
  },
  {
   "cell_type": "code",
   "execution_count": 82,
   "metadata": {
    "collapsed": false
   },
   "outputs": [],
   "source": [
    "myconfig = \"/Users/ruthtoner/CodingMacros/ProjectInsight/myconfigs.cfg\"\n",
    "\n",
    "#Vectorizer:\n",
    "vect_text = CountVectorizer(analyzer = \"word\",   \\\n",
    "                             tokenizer = None,    \\\n",
    "                             preprocessor = None, \\\n",
    "                             stop_words = None,   \\\n",
    "                             max_features = 50, \\\n",
    "                             max_df = 1.0)\n",
    "\n",
    "vect_tag = CountVectorizer(analyzer = \"word\",   \\\n",
    "                             tokenizer = None,    \\\n",
    "                             preprocessor = None, \\\n",
    "                             stop_words = None,   \\\n",
    "                             max_features = 50, \\\n",
    "                             max_df = 1.0, \\\n",
    "                             binary = True)\n",
    "\n",
    "model_logreg = linear_model.LogisticRegression(C=1)"
   ]
  },
  {
   "cell_type": "code",
   "execution_count": 83,
   "metadata": {
    "collapsed": false
   },
   "outputs": [
    {
     "name": "stdout",
     "output_type": "stream",
     "text": [
      "Marked:\n",
      "true=sw, false=dai, TPR=1.000000, FPR=0.269592\n",
      "true=sw, false=utale, TPR=1.000000, FPR=0.373466\n",
      "true=sw, false=lis, TPR=1.000000, FPR=0.359100\n",
      "true=sw, false=slock, TPR=1.000000, FPR=0.265769\n",
      "true=sw, false=got, TPR=1.000000, FPR=0.188856\n",
      "true=sw, false=han, TPR=1.000000, FPR=0.200056\n",
      "true=sw, false=aou, TPR=1.000000, FPR=0.322480\n",
      "true=sw, false=madmax, TPR=1.000000, FPR=0.410067\n",
      "Unmarked:\n",
      "true=sw, false=dai, TPR=0.755232, FPR=0.268337\n",
      "true=sw, false=utale, TPR=0.755232, FPR=0.371998\n",
      "true=sw, false=lis, TPR=0.755232, FPR=0.358567\n",
      "true=sw, false=slock, TPR=0.755232, FPR=0.264349\n",
      "true=sw, false=got, TPR=0.755232, FPR=0.186294\n",
      "true=sw, false=han, TPR=0.755232, FPR=0.199194\n",
      "true=sw, false=aou, TPR=0.755232, FPR=0.312719\n",
      "true=sw, false=madmax, TPR=0.755232, FPR=0.384564\n"
     ]
    }
   ],
   "source": [
    "nolist = ['dai','utale','lis','slock','got','han','aou','madmax']\n",
    "print \"Marked:\"\n",
    "fullpipe(\"sw\",nolist,myconfig,vect_text,vect_tag)\n",
    "print \"Unmarked:\"\n",
    "fullpipe(\"sw\",nolist,myconfig,vect_text,vect_tag,True,['star','war'])"
   ]
  },
  {
   "cell_type": "code",
   "execution_count": 84,
   "metadata": {
    "collapsed": false
   },
   "outputs": [
    {
     "name": "stdout",
     "output_type": "stream",
     "text": [
      "Marked:\n",
      "true=dai, false=sw, TPR=1.000000, FPR=0.316140\n",
      "true=dai, false=utale, TPR=1.000000, FPR=0.448397\n",
      "true=dai, false=lis, TPR=1.000000, FPR=0.357888\n",
      "true=dai, false=slock, TPR=1.000000, FPR=0.208067\n",
      "true=dai, false=got, TPR=1.000000, FPR=1.000000\n",
      "true=dai, false=han, TPR=1.000000, FPR=0.225970\n",
      "true=dai, false=aou, TPR=1.000000, FPR=1.000000\n",
      "true=dai, false=madmax, TPR=1.000000, FPR=0.351678\n",
      "Unmarked:\n",
      "true=dai, false=sw, TPR=0.861169, FPR=0.316116\n",
      "true=dai, false=utale, TPR=0.861169, FPR=0.448397\n",
      "true=dai, false=lis, TPR=0.861169, FPR=0.357888\n",
      "true=dai, false=slock, TPR=0.861169, FPR=0.208067\n",
      "true=dai, false=got, TPR=0.861169, FPR=1.000000\n",
      "true=dai, false=han, TPR=0.861169, FPR=0.225970\n",
      "true=dai, false=aou, TPR=0.861169, FPR=1.000000\n",
      "true=dai, false=madmax, TPR=0.861169, FPR=0.351007\n"
     ]
    }
   ],
   "source": [
    "nolist = ['sw','utale','lis','slock','got','han','aou','madmax']\n",
    "print \"Marked:\"\n",
    "fullpipe(\"dai\",nolist,myconfig,vect_text,vect_tag)\n",
    "print \"Unmarked:\"\n",
    "fullpipe(\"dai\",nolist,myconfig,vect_text,vect_tag,True,['dai'])"
   ]
  },
  {
   "cell_type": "code",
   "execution_count": 85,
   "metadata": {
    "collapsed": false
   },
   "outputs": [
    {
     "name": "stdout",
     "output_type": "stream",
     "text": [
      "Marked:\n",
      "true=utale, false=sw, TPR=1.000000, FPR=0.307065\n",
      "true=utale, false=dai, TPR=1.000000, FPR=0.368782\n",
      "true=utale, false=lis, TPR=1.000000, FPR=0.354444\n",
      "true=utale, false=slock, TPR=1.000000, FPR=0.186822\n",
      "true=utale, false=got, TPR=1.000000, FPR=1.000000\n",
      "true=utale, false=han, TPR=1.000000, FPR=0.191158\n",
      "true=utale, false=aou, TPR=1.000000, FPR=0.294580\n",
      "true=utale, false=madmax, TPR=1.000000, FPR=0.342282\n",
      "Unmarked:\n",
      "true=utale, false=sw, TPR=1.000000, FPR=0.307065\n",
      "true=utale, false=dai, TPR=1.000000, FPR=0.368782\n",
      "true=utale, false=lis, TPR=1.000000, FPR=0.354444\n",
      "true=utale, false=slock, TPR=1.000000, FPR=0.186822\n",
      "true=utale, false=got, TPR=1.000000, FPR=1.000000\n",
      "true=utale, false=han, TPR=1.000000, FPR=0.191158\n",
      "true=utale, false=aou, TPR=1.000000, FPR=0.294580\n",
      "true=utale, false=madmax, TPR=1.000000, FPR=0.342282\n"
     ]
    }
   ],
   "source": [
    "nolist = ['sw','dai','lis','slock','got','han','aou','madmax']\n",
    "print \"Marked:\"\n",
    "fullpipe(\"utale\",nolist,myconfig,vect_text,vect_tag)\n",
    "print \"Unmarked:\"\n",
    "fullpipe(\"utale\",nolist,myconfig,vect_text,vect_tag,True,['utale'])"
   ]
  },
  {
   "cell_type": "code",
   "execution_count": 86,
   "metadata": {
    "collapsed": false
   },
   "outputs": [
    {
     "name": "stdout",
     "output_type": "stream",
     "text": [
      "Marked:\n",
      "true=lis, false=sw, TPR=1.000000, FPR=0.340977\n",
      "true=lis, false=dai, TPR=1.000000, FPR=0.366204\n",
      "true=lis, false=utale, TPR=1.000000, FPR=0.431398\n",
      "true=lis, false=slock, TPR=1.000000, FPR=0.228019\n",
      "true=lis, false=got, TPR=1.000000, FPR=1.000000\n",
      "true=lis, false=han, TPR=1.000000, FPR=0.293369\n",
      "true=lis, false=aou, TPR=1.000000, FPR=0.298295\n",
      "true=lis, false=madmax, TPR=1.000000, FPR=1.000000\n",
      "Unmarked:\n",
      "true=lis, false=sw, TPR=0.753601, FPR=0.311916\n",
      "true=lis, false=dai, TPR=0.753601, FPR=0.361389\n",
      "true=lis, false=utale, TPR=0.753601, FPR=0.427888\n",
      "true=lis, false=slock, TPR=0.753601, FPR=0.211059\n",
      "true=lis, false=got, TPR=0.753601, FPR=1.000000\n",
      "true=lis, false=han, TPR=0.753601, FPR=0.283081\n",
      "true=lis, false=aou, TPR=0.753601, FPR=0.291740\n",
      "true=lis, false=madmax, TPR=0.753601, FPR=1.000000\n"
     ]
    }
   ],
   "source": [
    "nolist = ['sw','dai','utale','slock','got','han','aou','madmax']\n",
    "print \"Marked:\"\n",
    "fullpipe(\"lis\",nolist,myconfig,vect_text,vect_tag)\n",
    "print \"Unmarked:\"\n",
    "fullpipe(\"lis\",nolist,myconfig,vect_text,vect_tag,True,['life','is','strange'])"
   ]
  },
  {
   "cell_type": "code",
   "execution_count": 87,
   "metadata": {
    "collapsed": false
   },
   "outputs": [
    {
     "name": "stdout",
     "output_type": "stream",
     "text": [
      "Marked:\n",
      "true=slock, false=sw, TPR=1.000000, FPR=0.281963\n",
      "true=slock, false=dai, TPR=1.000000, FPR=0.219913\n",
      "true=slock, false=utale, TPR=1.000000, FPR=0.198392\n",
      "true=slock, false=lis, TPR=1.000000, FPR=1.000000\n",
      "true=slock, false=got, TPR=1.000000, FPR=0.250928\n",
      "true=slock, false=han, TPR=1.000000, FPR=0.278660\n",
      "true=slock, false=aou, TPR=1.000000, FPR=0.267410\n",
      "true=slock, false=madmax, TPR=1.000000, FPR=0.257047\n",
      "Unmarked:\n",
      "true=slock, false=sw, TPR=0.701171, FPR=0.281697\n",
      "true=slock, false=dai, TPR=0.701171, FPR=0.219845\n",
      "true=slock, false=utale, TPR=0.701171, FPR=0.198392\n",
      "true=slock, false=lis, TPR=0.701171, FPR=1.000000\n",
      "true=slock, false=got, TPR=0.701171, FPR=0.250562\n",
      "true=slock, false=han, TPR=0.701171, FPR=0.276992\n",
      "true=slock, false=aou, TPR=0.701171, FPR=0.267337\n",
      "true=slock, false=madmax, TPR=0.701171, FPR=0.256376\n"
     ]
    }
   ],
   "source": [
    "nolist = ['sw','dai','utale','lis','got','han','aou','madmax']\n",
    "print \"Marked:\"\n",
    "fullpipe(\"slock\",nolist,myconfig,vect_text,vect_tag)\n",
    "print \"Unmarked:\"\n",
    "fullpipe(\"slock\",nolist,myconfig,vect_text,vect_tag,True,['sherlock'])"
   ]
  },
  {
   "cell_type": "code",
   "execution_count": 88,
   "metadata": {
    "collapsed": false
   },
   "outputs": [
    {
     "name": "stdout",
     "output_type": "stream",
     "text": [
      "Marked:\n",
      "true=got, false=sw, TPR=1.000000, FPR=0.255847\n",
      "true=got, false=dai, TPR=1.000000, FPR=0.697989\n",
      "true=got, false=utale, TPR=1.000000, FPR=0.198987\n",
      "true=got, false=lis, TPR=1.000000, FPR=0.361816\n",
      "true=got, false=slock, TPR=1.000000, FPR=0.267265\n",
      "true=got, false=han, TPR=1.000000, FPR=0.287112\n",
      "true=got, false=aou, TPR=1.000000, FPR=0.270396\n",
      "true=got, false=madmax, TPR=1.000000, FPR=0.265772\n",
      "Unmarked:\n",
      "true=got, false=sw, TPR=1.000000, FPR=0.255847\n",
      "true=got, false=dai, TPR=1.000000, FPR=0.697989\n",
      "true=got, false=utale, TPR=1.000000, FPR=0.198987\n",
      "true=got, false=lis, TPR=1.000000, FPR=0.361816\n",
      "true=got, false=slock, TPR=1.000000, FPR=0.267265\n",
      "true=got, false=han, TPR=1.000000, FPR=0.287112\n",
      "true=got, false=aou, TPR=1.000000, FPR=0.270396\n",
      "true=got, false=madmax, TPR=1.000000, FPR=0.265772\n"
     ]
    }
   ],
   "source": [
    "nolist = ['sw','dai','utale','lis','slock','han','aou','madmax']\n",
    "print \"Marked:\"\n",
    "fullpipe(\"got\",nolist,myconfig,vect_text,vect_tag)\n",
    "print \"Unmarked:\"\n",
    "fullpipe(\"got\",nolist,myconfig,vect_text,vect_tag,True,['game-of-thrones'])"
   ]
  },
  {
   "cell_type": "code",
   "execution_count": 89,
   "metadata": {
    "collapsed": false
   },
   "outputs": [
    {
     "name": "stdout",
     "output_type": "stream",
     "text": [
      "Marked:\n",
      "true=han, false=sw, TPR=1.000000, FPR=0.274239\n",
      "true=han, false=dai, TPR=1.000000, FPR=0.697921\n",
      "true=han, false=utale, TPR=1.000000, FPR=0.354999\n",
      "true=han, false=lis, TPR=1.000000, FPR=0.280491\n",
      "true=han, false=slock, TPR=1.000000, FPR=0.254614\n",
      "true=han, false=got, TPR=1.000000, FPR=0.293782\n",
      "true=han, false=aou, TPR=1.000000, FPR=0.258596\n",
      "true=han, false=madmax, TPR=1.000000, FPR=0.305369\n",
      "Unmarked:\n",
      "true=han, false=sw, TPR=0.609426, FPR=0.274191\n",
      "true=han, false=dai, TPR=0.609426, FPR=0.697921\n",
      "true=han, false=utale, TPR=0.609426, FPR=0.354999\n",
      "true=han, false=lis, TPR=0.609426, FPR=0.280394\n",
      "true=han, false=slock, TPR=0.609426, FPR=0.252839\n",
      "true=han, false=got, TPR=0.609426, FPR=0.293103\n",
      "true=han, false=aou, TPR=0.609426, FPR=0.258596\n",
      "true=han, false=madmax, TPR=0.609426, FPR=0.304698\n"
     ]
    }
   ],
   "source": [
    "nolist = ['sw','dai','utale','lis','slock','got','aou','madmax']\n",
    "print \"Marked:\"\n",
    "fullpipe(\"han\",nolist,myconfig,vect_text,vect_tag)\n",
    "print \"Unmarked:\"\n",
    "fullpipe(\"han\",nolist,myconfig,vect_text,vect_tag,True,['hannibal'])"
   ]
  },
  {
   "cell_type": "code",
   "execution_count": 90,
   "metadata": {
    "collapsed": false
   },
   "outputs": [
    {
     "name": "stdout",
     "output_type": "stream",
     "text": [
      "Marked:\n",
      "true=aou, false=sw, TPR=1.000000, FPR=0.292004\n",
      "true=aou, false=dai, TPR=1.000000, FPR=0.695988\n",
      "true=aou, false=utale, TPR=1.000000, FPR=0.354126\n",
      "true=aou, false=lis, TPR=1.000000, FPR=0.238689\n",
      "true=aou, false=slock, TPR=1.000000, FPR=0.155182\n",
      "true=aou, false=got, TPR=1.000000, FPR=0.231188\n",
      "true=aou, false=han, TPR=1.000000, FPR=0.159210\n",
      "true=aou, false=madmax, TPR=1.000000, FPR=0.364430\n",
      "Unmarked:\n",
      "true=aou, false=sw, TPR=0.891317, FPR=0.291159\n",
      "true=aou, false=dai, TPR=0.891317, FPR=0.246329\n",
      "true=aou, false=utale, TPR=0.891317, FPR=0.353765\n",
      "true=aou, false=lis, TPR=0.891317, FPR=0.237816\n",
      "true=aou, false=slock, TPR=0.891317, FPR=0.155081\n",
      "true=aou, false=got, TPR=0.891317, FPR=0.230665\n",
      "true=aou, false=han, TPR=0.891317, FPR=0.158988\n",
      "true=aou, false=madmax, TPR=0.891317, FPR=0.362416\n"
     ]
    }
   ],
   "source": [
    "nolist = ['sw','dai','utale','lis','slock','got','han','madmax']\n",
    "print \"Marked:\"\n",
    "fullpipe(\"aou\",nolist,myconfig,vect_text,vect_tag)\n",
    "print \"Unmarked:\"\n",
    "fullpipe(\"aou\",nolist,myconfig,vect_text,vect_tag,True,['age','of','ultron'])"
   ]
  },
  {
   "cell_type": "code",
   "execution_count": null,
   "metadata": {
    "collapsed": true
   },
   "outputs": [],
   "source": []
  }
 ],
 "metadata": {
  "kernelspec": {
   "display_name": "Python 2",
   "language": "python",
   "name": "python2"
  },
  "language_info": {
   "codemirror_mode": {
    "name": "ipython",
    "version": 2
   },
   "file_extension": ".py",
   "mimetype": "text/x-python",
   "name": "python",
   "nbconvert_exporter": "python",
   "pygments_lexer": "ipython2",
   "version": "2.7.11"
  }
 },
 "nbformat": 4,
 "nbformat_minor": 0
}
